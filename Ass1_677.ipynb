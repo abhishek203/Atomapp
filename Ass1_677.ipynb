{
  "nbformat": 4,
  "nbformat_minor": 0,
  "metadata": {
    "colab": {
      "name": "Ass1_677.ipynb",
      "provenance": [],
      "collapsed_sections": [],
      "authorship_tag": "ABX9TyOW6EsIuQS252sY4adMdmDR",
      "include_colab_link": true
    },
    "kernelspec": {
      "name": "python3",
      "display_name": "Python 3"
    },
    "language_info": {
      "name": "python"
    }
  },
  "cells": [
    {
      "cell_type": "markdown",
      "metadata": {
        "id": "view-in-github",
        "colab_type": "text"
      },
      "source": [
        "<a href=\"https://colab.research.google.com/github/abhishek203/Atomapp/blob/master/Ass1_677.ipynb\" target=\"_parent\"><img src=\"https://colab.research.google.com/assets/colab-badge.svg\" alt=\"Open In Colab\"/></a>"
      ]
    },
    {
      "cell_type": "markdown",
      "metadata": {
        "id": "yg2FuGHb_SZD"
      },
      "source": [
        "# Logic simulator \n"
      ]
    },
    {
      "cell_type": "code",
      "metadata": {
        "id": "WBwF2E8iY__g"
      },
      "source": [
        "def AND(a,b):\n",
        "  if a==0 or b == 0:\n",
        "    return 0\n",
        "  if a==-1 or b==-1:\n",
        "    return -1\n",
        "  if a == 1 and b==1:\n",
        "    return 1\n",
        "def OR(a,b):\n",
        "  if a==1 or b ==1:\n",
        "    return 1\n",
        "  if a==0 and b==0:\n",
        "    return 0\n",
        "  if a==-1 or b==-1:\n",
        "    return -1\n",
        "def NOT(a):\n",
        "  if a==0:\n",
        "    return 1\n",
        "  if a==1:\n",
        "    return 0\n",
        "  if a==-1:\n",
        "    return -1"
      ],
      "execution_count": 150,
      "outputs": []
    },
    {
      "cell_type": "code",
      "metadata": {
        "id": "EsMdN0TuYhxE"
      },
      "source": [
        "def function(node,a,b):\n",
        "  if gate[node] == 'NOT':\n",
        "    return NOT(a)\n",
        "  if gate[node] == 'OR':\n",
        "    return OR(a,b)\n",
        "  if gate[node] == 'AND':\n",
        "    return AND(a,b)"
      ],
      "execution_count": 151,
      "outputs": []
    },
    {
      "cell_type": "markdown",
      "metadata": {
        "id": "hBf0t75G_jKB"
      },
      "source": [
        "Calculating the node value"
      ]
    },
    {
      "cell_type": "code",
      "metadata": {
        "id": "E2ExqAIzVyiQ"
      },
      "source": [
        "#func to cal node value\n",
        "def node_val(node):\n",
        "  a = left_node[node]\n",
        "  b = right_node[node]\n",
        "  if b not in value:\n",
        "    node_val(b)\n",
        "  if a not in value:\n",
        "    node_val(a)\n",
        "  if a in value and b in value:\n",
        "    value[node] = function(node,value[a],value[b])"
      ],
      "execution_count": 152,
      "outputs": []
    },
    {
      "cell_type": "markdown",
      "metadata": {
        "id": "__Xy41yh_gZ3"
      },
      "source": [
        "Reading from the files"
      ]
    },
    {
      "cell_type": "code",
      "metadata": {
        "id": "3Mc8QRidi69E"
      },
      "source": [
        "a = 0\n",
        "left_node ={}\n",
        "right_node = {}\n",
        "gate={}\n",
        "value={}\n",
        "import fileinput\n",
        "with open('input_ass1.txt') as f1, open('input2_ass1.txt') as f2:\n",
        "  for line in f1:\n",
        "    a = int(line.split(\" \")[0])\n",
        "    gate[a] = line.split(\" \")[1]\n",
        "    left_node[a] = int(line.split(\" \")[2])\n",
        "    if gate[a]!='NOT':\n",
        "      right_node[a] = int(line.split(\" \")[3])\n",
        "    else:\n",
        "      right_node[a] = left_node[a]\n",
        "  for line in f2:\n",
        "    b = int(line.split(\" \")[0])\n",
        "    value[b] = int(line.split(\" \")[1])"
      ],
      "execution_count": 153,
      "outputs": []
    },
    {
      "cell_type": "code",
      "metadata": {
        "colab": {
          "base_uri": "https://localhost:8080/"
        },
        "id": "DbpgDg-m8lLW",
        "outputId": "3c8ae87b-9252-4ad7-f532-c57b101a6827"
      },
      "source": [
        "node_val(4)\n",
        "value"
      ],
      "execution_count": 155,
      "outputs": [
        {
          "output_type": "execute_result",
          "data": {
            "text/plain": [
              "{0: 1, 1: -1, 2: -1, 3: -1, 4: -1}"
            ]
          },
          "metadata": {},
          "execution_count": 155
        }
      ]
    }
  ]
}